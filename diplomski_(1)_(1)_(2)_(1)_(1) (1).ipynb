{
  "cells": [
    {
      "cell_type": "code",
      "execution_count": 1,
      "metadata": {
        "id": "uEqES6WtiGUB"
      },
      "outputs": [],
      "source": [
        " pip install -q kaggle"
      ]
    },
    {
      "cell_type": "code",
      "execution_count": 2,
      "metadata": {
        "id": "QUDSR5T_l5Sr"
      },
      "outputs": [],
      "source": [
        "from google.colab import files"
      ]
    },
    {
      "cell_type": "code",
      "execution_count": 3,
      "metadata": {
        "id": "v7_Jyc6YmL_P",
        "colab": {
          "base_uri": "https://localhost:8080/",
          "height": 90
        },
        "outputId": "20759327-806a-4bec-9caa-9e85f94adcac"
      },
      "outputs": [
        {
          "output_type": "display_data",
          "data": {
            "text/plain": [
              "<IPython.core.display.HTML object>"
            ],
            "text/html": [
              "\n",
              "     <input type=\"file\" id=\"files-203ef570-822b-43ba-b9ca-3517957f9043\" name=\"files[]\" multiple disabled\n",
              "        style=\"border:none\" />\n",
              "     <output id=\"result-203ef570-822b-43ba-b9ca-3517957f9043\">\n",
              "      Upload widget is only available when the cell has been executed in the\n",
              "      current browser session. Please rerun this cell to enable.\n",
              "      </output>\n",
              "      <script>// Copyright 2017 Google LLC\n",
              "//\n",
              "// Licensed under the Apache License, Version 2.0 (the \"License\");\n",
              "// you may not use this file except in compliance with the License.\n",
              "// You may obtain a copy of the License at\n",
              "//\n",
              "//      http://www.apache.org/licenses/LICENSE-2.0\n",
              "//\n",
              "// Unless required by applicable law or agreed to in writing, software\n",
              "// distributed under the License is distributed on an \"AS IS\" BASIS,\n",
              "// WITHOUT WARRANTIES OR CONDITIONS OF ANY KIND, either express or implied.\n",
              "// See the License for the specific language governing permissions and\n",
              "// limitations under the License.\n",
              "\n",
              "/**\n",
              " * @fileoverview Helpers for google.colab Python module.\n",
              " */\n",
              "(function(scope) {\n",
              "function span(text, styleAttributes = {}) {\n",
              "  const element = document.createElement('span');\n",
              "  element.textContent = text;\n",
              "  for (const key of Object.keys(styleAttributes)) {\n",
              "    element.style[key] = styleAttributes[key];\n",
              "  }\n",
              "  return element;\n",
              "}\n",
              "\n",
              "// Max number of bytes which will be uploaded at a time.\n",
              "const MAX_PAYLOAD_SIZE = 100 * 1024;\n",
              "\n",
              "function _uploadFiles(inputId, outputId) {\n",
              "  const steps = uploadFilesStep(inputId, outputId);\n",
              "  const outputElement = document.getElementById(outputId);\n",
              "  // Cache steps on the outputElement to make it available for the next call\n",
              "  // to uploadFilesContinue from Python.\n",
              "  outputElement.steps = steps;\n",
              "\n",
              "  return _uploadFilesContinue(outputId);\n",
              "}\n",
              "\n",
              "// This is roughly an async generator (not supported in the browser yet),\n",
              "// where there are multiple asynchronous steps and the Python side is going\n",
              "// to poll for completion of each step.\n",
              "// This uses a Promise to block the python side on completion of each step,\n",
              "// then passes the result of the previous step as the input to the next step.\n",
              "function _uploadFilesContinue(outputId) {\n",
              "  const outputElement = document.getElementById(outputId);\n",
              "  const steps = outputElement.steps;\n",
              "\n",
              "  const next = steps.next(outputElement.lastPromiseValue);\n",
              "  return Promise.resolve(next.value.promise).then((value) => {\n",
              "    // Cache the last promise value to make it available to the next\n",
              "    // step of the generator.\n",
              "    outputElement.lastPromiseValue = value;\n",
              "    return next.value.response;\n",
              "  });\n",
              "}\n",
              "\n",
              "/**\n",
              " * Generator function which is called between each async step of the upload\n",
              " * process.\n",
              " * @param {string} inputId Element ID of the input file picker element.\n",
              " * @param {string} outputId Element ID of the output display.\n",
              " * @return {!Iterable<!Object>} Iterable of next steps.\n",
              " */\n",
              "function* uploadFilesStep(inputId, outputId) {\n",
              "  const inputElement = document.getElementById(inputId);\n",
              "  inputElement.disabled = false;\n",
              "\n",
              "  const outputElement = document.getElementById(outputId);\n",
              "  outputElement.innerHTML = '';\n",
              "\n",
              "  const pickedPromise = new Promise((resolve) => {\n",
              "    inputElement.addEventListener('change', (e) => {\n",
              "      resolve(e.target.files);\n",
              "    });\n",
              "  });\n",
              "\n",
              "  const cancel = document.createElement('button');\n",
              "  inputElement.parentElement.appendChild(cancel);\n",
              "  cancel.textContent = 'Cancel upload';\n",
              "  const cancelPromise = new Promise((resolve) => {\n",
              "    cancel.onclick = () => {\n",
              "      resolve(null);\n",
              "    };\n",
              "  });\n",
              "\n",
              "  // Wait for the user to pick the files.\n",
              "  const files = yield {\n",
              "    promise: Promise.race([pickedPromise, cancelPromise]),\n",
              "    response: {\n",
              "      action: 'starting',\n",
              "    }\n",
              "  };\n",
              "\n",
              "  cancel.remove();\n",
              "\n",
              "  // Disable the input element since further picks are not allowed.\n",
              "  inputElement.disabled = true;\n",
              "\n",
              "  if (!files) {\n",
              "    return {\n",
              "      response: {\n",
              "        action: 'complete',\n",
              "      }\n",
              "    };\n",
              "  }\n",
              "\n",
              "  for (const file of files) {\n",
              "    const li = document.createElement('li');\n",
              "    li.append(span(file.name, {fontWeight: 'bold'}));\n",
              "    li.append(span(\n",
              "        `(${file.type || 'n/a'}) - ${file.size} bytes, ` +\n",
              "        `last modified: ${\n",
              "            file.lastModifiedDate ? file.lastModifiedDate.toLocaleDateString() :\n",
              "                                    'n/a'} - `));\n",
              "    const percent = span('0% done');\n",
              "    li.appendChild(percent);\n",
              "\n",
              "    outputElement.appendChild(li);\n",
              "\n",
              "    const fileDataPromise = new Promise((resolve) => {\n",
              "      const reader = new FileReader();\n",
              "      reader.onload = (e) => {\n",
              "        resolve(e.target.result);\n",
              "      };\n",
              "      reader.readAsArrayBuffer(file);\n",
              "    });\n",
              "    // Wait for the data to be ready.\n",
              "    let fileData = yield {\n",
              "      promise: fileDataPromise,\n",
              "      response: {\n",
              "        action: 'continue',\n",
              "      }\n",
              "    };\n",
              "\n",
              "    // Use a chunked sending to avoid message size limits. See b/62115660.\n",
              "    let position = 0;\n",
              "    do {\n",
              "      const length = Math.min(fileData.byteLength - position, MAX_PAYLOAD_SIZE);\n",
              "      const chunk = new Uint8Array(fileData, position, length);\n",
              "      position += length;\n",
              "\n",
              "      const base64 = btoa(String.fromCharCode.apply(null, chunk));\n",
              "      yield {\n",
              "        response: {\n",
              "          action: 'append',\n",
              "          file: file.name,\n",
              "          data: base64,\n",
              "        },\n",
              "      };\n",
              "\n",
              "      let percentDone = fileData.byteLength === 0 ?\n",
              "          100 :\n",
              "          Math.round((position / fileData.byteLength) * 100);\n",
              "      percent.textContent = `${percentDone}% done`;\n",
              "\n",
              "    } while (position < fileData.byteLength);\n",
              "  }\n",
              "\n",
              "  // All done.\n",
              "  yield {\n",
              "    response: {\n",
              "      action: 'complete',\n",
              "    }\n",
              "  };\n",
              "}\n",
              "\n",
              "scope.google = scope.google || {};\n",
              "scope.google.colab = scope.google.colab || {};\n",
              "scope.google.colab._files = {\n",
              "  _uploadFiles,\n",
              "  _uploadFilesContinue,\n",
              "};\n",
              "})(self);\n",
              "</script> "
            ]
          },
          "metadata": {}
        },
        {
          "output_type": "stream",
          "name": "stdout",
          "text": [
            "Saving kaggle.json to kaggle.json\n"
          ]
        },
        {
          "output_type": "execute_result",
          "data": {
            "text/plain": [
              "{'kaggle.json': b'{\"username\":\"mirtavucinic\",\"key\":\"c4136663ac663d4e32c581d094f31cb7\"}'}"
            ]
          },
          "metadata": {},
          "execution_count": 3
        }
      ],
      "source": [
        "files.upload() #upload kaggle.json file"
      ]
    },
    {
      "cell_type": "code",
      "execution_count": 4,
      "metadata": {
        "id": "q479xKFAmeKt"
      },
      "outputs": [],
      "source": [
        "! mkdir ~/.kaggle"
      ]
    },
    {
      "cell_type": "code",
      "execution_count": 5,
      "metadata": {
        "id": "qgS_X9sbmf_k"
      },
      "outputs": [],
      "source": [
        "! cp kaggle.json ~/.kaggle/"
      ]
    },
    {
      "cell_type": "code",
      "execution_count": 6,
      "metadata": {
        "id": "AyoTklAImoEP"
      },
      "outputs": [],
      "source": [
        "! chmod 600 ~/.kaggle/kaggle.json"
      ]
    },
    {
      "cell_type": "code",
      "execution_count": 7,
      "metadata": {
        "id": "dU1Hdu0mxJBx",
        "colab": {
          "base_uri": "https://localhost:8080/"
        },
        "outputId": "a50932e4-9ccd-41ac-ff47-0629e5632763"
      },
      "outputs": [
        {
          "output_type": "stream",
          "name": "stdout",
          "text": [
            "Collecting catboost\n",
            "  Downloading catboost-1.2.7-cp310-cp310-manylinux2014_x86_64.whl.metadata (1.2 kB)\n",
            "Requirement already satisfied: graphviz in /usr/local/lib/python3.10/dist-packages (from catboost) (0.20.3)\n",
            "Requirement already satisfied: matplotlib in /usr/local/lib/python3.10/dist-packages (from catboost) (3.10.0)\n",
            "Requirement already satisfied: numpy<2.0,>=1.16.0 in /usr/local/lib/python3.10/dist-packages (from catboost) (1.26.4)\n",
            "Requirement already satisfied: pandas>=0.24 in /usr/local/lib/python3.10/dist-packages (from catboost) (2.2.2)\n",
            "Requirement already satisfied: scipy in /usr/local/lib/python3.10/dist-packages (from catboost) (1.13.1)\n",
            "Requirement already satisfied: plotly in /usr/local/lib/python3.10/dist-packages (from catboost) (5.24.1)\n",
            "Requirement already satisfied: six in /usr/local/lib/python3.10/dist-packages (from catboost) (1.17.0)\n",
            "Requirement already satisfied: python-dateutil>=2.8.2 in /usr/local/lib/python3.10/dist-packages (from pandas>=0.24->catboost) (2.8.2)\n",
            "Requirement already satisfied: pytz>=2020.1 in /usr/local/lib/python3.10/dist-packages (from pandas>=0.24->catboost) (2024.2)\n",
            "Requirement already satisfied: tzdata>=2022.7 in /usr/local/lib/python3.10/dist-packages (from pandas>=0.24->catboost) (2024.2)\n",
            "Requirement already satisfied: contourpy>=1.0.1 in /usr/local/lib/python3.10/dist-packages (from matplotlib->catboost) (1.3.1)\n",
            "Requirement already satisfied: cycler>=0.10 in /usr/local/lib/python3.10/dist-packages (from matplotlib->catboost) (0.12.1)\n",
            "Requirement already satisfied: fonttools>=4.22.0 in /usr/local/lib/python3.10/dist-packages (from matplotlib->catboost) (4.55.3)\n",
            "Requirement already satisfied: kiwisolver>=1.3.1 in /usr/local/lib/python3.10/dist-packages (from matplotlib->catboost) (1.4.8)\n",
            "Requirement already satisfied: packaging>=20.0 in /usr/local/lib/python3.10/dist-packages (from matplotlib->catboost) (24.2)\n",
            "Requirement already satisfied: pillow>=8 in /usr/local/lib/python3.10/dist-packages (from matplotlib->catboost) (11.1.0)\n",
            "Requirement already satisfied: pyparsing>=2.3.1 in /usr/local/lib/python3.10/dist-packages (from matplotlib->catboost) (3.2.1)\n",
            "Requirement already satisfied: tenacity>=6.2.0 in /usr/local/lib/python3.10/dist-packages (from plotly->catboost) (9.0.0)\n",
            "Downloading catboost-1.2.7-cp310-cp310-manylinux2014_x86_64.whl (98.7 MB)\n",
            "\u001b[2K   \u001b[90m━━━━━━━━━━━━━━━━━━━━━━━━━━━━━━━━━━━━━━━━\u001b[0m \u001b[32m98.7/98.7 MB\u001b[0m \u001b[31m5.6 MB/s\u001b[0m eta \u001b[36m0:00:00\u001b[0m\n",
            "\u001b[?25hInstalling collected packages: catboost\n",
            "Successfully installed catboost-1.2.7\n"
          ]
        }
      ],
      "source": [
        "! pip install catboost"
      ]
    },
    {
      "cell_type": "code",
      "execution_count": 8,
      "metadata": {
        "id": "TqSxl1c8vEJY",
        "colab": {
          "base_uri": "https://localhost:8080/"
        },
        "outputId": "4f3d844c-93a7-4b97-e1d8-00461bd87416"
      },
      "outputs": [
        {
          "output_type": "stream",
          "name": "stdout",
          "text": [
            "Collecting pydub\n",
            "  Downloading pydub-0.25.1-py2.py3-none-any.whl.metadata (1.4 kB)\n",
            "Downloading pydub-0.25.1-py2.py3-none-any.whl (32 kB)\n",
            "Installing collected packages: pydub\n",
            "Successfully installed pydub-0.25.1\n"
          ]
        }
      ],
      "source": [
        "! pip install pydub"
      ]
    },
    {
      "cell_type": "code",
      "execution_count": 9,
      "metadata": {
        "id": "URHfQqXWn8jN"
      },
      "outputs": [],
      "source": [
        "import numpy as np\n",
        "import librosa\n",
        "import matplotlib.pyplot as plt\n",
        "import seaborn as sns\n",
        "from tensorflow.keras.models import Sequential\n",
        "from tensorflow.keras.layers import (\n",
        "    Conv2D,\n",
        "    LSTM,\n",
        "    Dropout,\n",
        "    Dense,\n",
        "    MaxPooling2D,\n",
        "    Flatten,\n",
        ")\n",
        "\n",
        "import librosa.display\n",
        "from tensorflow.keras.callbacks import EarlyStopping\n",
        "from tensorflow.keras.regularizers import l2\n",
        "from tensorflow.keras.optimizers import Adam\n",
        "from sklearn.model_selection import train_test_split\n",
        "from sklearn.preprocessing import StandardScaler, RobustScaler\n",
        "from sklearn.pipeline import Pipeline\n",
        "from sklearn.feature_selection import SelectKBest, f_classif\n",
        "from sklearn.model_selection import GridSearchCV\n",
        "import random\n",
        "import os\n",
        "from pydub import AudioSegment\n",
        "from tensorflow.keras.utils import to_categorical\n",
        "from tensorflow.keras.preprocessing.sequence import pad_sequences\n",
        "from tensorflow.keras.preprocessing.image import ImageDataGenerator\n",
        "from xgboost import XGBClassifier\n",
        "from sklearn.tree import DecisionTreeClassifier\n",
        "from sklearn.ensemble import RandomForestClassifier\n",
        "from sklearn.linear_model import LogisticRegression\n",
        "from sklearn.neighbors import KNeighborsClassifier\n",
        "from catboost import CatBoostClassifier\n",
        "from sklearn import preprocessing\n",
        "from sklearn.naive_bayes import GaussianNB\n",
        "from sklearn.svm import SVC\n",
        "from sklearn.metrics import accuracy_score, f1_score, roc_auc_score, recall_score, precision_score, confusion_matrix, roc_curve, classification_report\n",
        "from PIL import Image"
      ]
    },
    {
      "cell_type": "code",
      "execution_count": 10,
      "metadata": {
        "id": "6-dU1xFypJHl",
        "colab": {
          "base_uri": "https://localhost:8080/"
        },
        "outputId": "b08f8764-4a74-4220-ab60-f3f4c466c4fc"
      },
      "outputs": [
        {
          "output_type": "stream",
          "name": "stdout",
          "text": [
            "Dataset URL: https://www.kaggle.com/datasets/birdy654/deep-voice-deepfake-voice-recognition\n",
            "License(s): other\n",
            "Downloading deep-voice-deepfake-voice-recognition.zip to /content\n",
            "100% 3.67G/3.69G [00:54<00:00, 57.2MB/s]\n",
            "100% 3.69G/3.69G [00:54<00:00, 72.9MB/s]\n"
          ]
        }
      ],
      "source": [
        "! kaggle datasets download birdy654/deep-voice-deepfake-voice-recognition"
      ]
    },
    {
      "cell_type": "code",
      "execution_count": 11,
      "metadata": {
        "id": "1InFRoJAxCfi",
        "colab": {
          "base_uri": "https://localhost:8080/"
        },
        "outputId": "a2bae5d8-8943-4cea-ed37-1bc9ff54ba15"
      },
      "outputs": [
        {
          "output_type": "stream",
          "name": "stdout",
          "text": [
            "Archive:  deep-voice-deepfake-voice-recognition.zip\n",
            "  inflating: /content/dataset/DEMONSTRATION/DEMONSTRATION/linus-original-DEMO.mp3  \n",
            "  inflating: /content/dataset/DEMONSTRATION/DEMONSTRATION/linus-to-musk-DEMO.mp3  \n",
            "  inflating: /content/dataset/KAGGLE/AUDIO/FAKE/Obama-to-Biden.wav  \n",
            "  inflating: /content/dataset/KAGGLE/AUDIO/FAKE/Obama-to-Trump.wav  \n",
            "  inflating: /content/dataset/KAGGLE/AUDIO/FAKE/biden-to-Obama.wav  \n",
            "  inflating: /content/dataset/KAGGLE/AUDIO/FAKE/biden-to-Trump.wav  \n",
            "  inflating: /content/dataset/KAGGLE/AUDIO/FAKE/biden-to-linus.wav  \n",
            "  inflating: /content/dataset/KAGGLE/AUDIO/FAKE/biden-to-margot.wav  \n",
            "  inflating: /content/dataset/KAGGLE/AUDIO/FAKE/biden-to-musk.wav  \n",
            "  inflating: /content/dataset/KAGGLE/AUDIO/FAKE/biden-to-ryan.wav  \n",
            "  inflating: /content/dataset/KAGGLE/AUDIO/FAKE/biden-to-taylor.wav  \n",
            "  inflating: /content/dataset/KAGGLE/AUDIO/FAKE/linus-to-biden.wav  \n",
            "  inflating: /content/dataset/KAGGLE/AUDIO/FAKE/linus-to-margot.wav  \n",
            "  inflating: /content/dataset/KAGGLE/AUDIO/FAKE/linus-to-musk.wav  \n",
            "  inflating: /content/dataset/KAGGLE/AUDIO/FAKE/linus-to-obama.wav  \n",
            "  inflating: /content/dataset/KAGGLE/AUDIO/FAKE/linus-to-ryan.wav  \n",
            "  inflating: /content/dataset/KAGGLE/AUDIO/FAKE/linus-to-taylor.wav  \n",
            "  inflating: /content/dataset/KAGGLE/AUDIO/FAKE/linus-to-trump.wav  \n",
            "  inflating: /content/dataset/KAGGLE/AUDIO/FAKE/margot-to-biden.wav  \n",
            "  inflating: /content/dataset/KAGGLE/AUDIO/FAKE/margot-to-linus.wav  \n",
            "  inflating: /content/dataset/KAGGLE/AUDIO/FAKE/margot-to-musk.wav  \n",
            "  inflating: /content/dataset/KAGGLE/AUDIO/FAKE/margot-to-obama.wav  \n",
            "  inflating: /content/dataset/KAGGLE/AUDIO/FAKE/margot-to-ryan.wav  \n",
            "  inflating: /content/dataset/KAGGLE/AUDIO/FAKE/margot-to-taylor.wav  \n",
            "  inflating: /content/dataset/KAGGLE/AUDIO/FAKE/margot-to-trump.wav  \n",
            "  inflating: /content/dataset/KAGGLE/AUDIO/FAKE/musk-to-biden.wav  \n",
            "  inflating: /content/dataset/KAGGLE/AUDIO/FAKE/musk-to-linus.wav  \n",
            "  inflating: /content/dataset/KAGGLE/AUDIO/FAKE/musk-to-margot.wav  \n",
            "  inflating: /content/dataset/KAGGLE/AUDIO/FAKE/musk-to-obama.wav  \n",
            "  inflating: /content/dataset/KAGGLE/AUDIO/FAKE/musk-to-ryan.wav  \n",
            "  inflating: /content/dataset/KAGGLE/AUDIO/FAKE/musk-to-taylor.wav  \n",
            "  inflating: /content/dataset/KAGGLE/AUDIO/FAKE/musk-to-trump.wav  \n",
            "  inflating: /content/dataset/KAGGLE/AUDIO/FAKE/obama-to-linus.wav  \n",
            "  inflating: /content/dataset/KAGGLE/AUDIO/FAKE/obama-to-margot.wav  \n",
            "  inflating: /content/dataset/KAGGLE/AUDIO/FAKE/obama-to-musk.wav  \n",
            "  inflating: /content/dataset/KAGGLE/AUDIO/FAKE/obama-to-ryan.wav  \n",
            "  inflating: /content/dataset/KAGGLE/AUDIO/FAKE/obama-to-taylor.wav  \n",
            "  inflating: /content/dataset/KAGGLE/AUDIO/FAKE/ryan-to-biden.wav  \n",
            "  inflating: /content/dataset/KAGGLE/AUDIO/FAKE/ryan-to-linus.wav  \n",
            "  inflating: /content/dataset/KAGGLE/AUDIO/FAKE/ryan-to-margot.wav  \n",
            "  inflating: /content/dataset/KAGGLE/AUDIO/FAKE/ryan-to-musk.wav  \n",
            "  inflating: /content/dataset/KAGGLE/AUDIO/FAKE/ryan-to-obama.wav  \n",
            "  inflating: /content/dataset/KAGGLE/AUDIO/FAKE/ryan-to-taylor.wav  \n",
            "  inflating: /content/dataset/KAGGLE/AUDIO/FAKE/ryan-to-trump.wav  \n",
            "  inflating: /content/dataset/KAGGLE/AUDIO/FAKE/taylor-to-biden.wav  \n",
            "  inflating: /content/dataset/KAGGLE/AUDIO/FAKE/taylor-to-linus.wav  \n",
            "  inflating: /content/dataset/KAGGLE/AUDIO/FAKE/taylor-to-margot.wav  \n",
            "  inflating: /content/dataset/KAGGLE/AUDIO/FAKE/taylor-to-musk.wav  \n",
            "  inflating: /content/dataset/KAGGLE/AUDIO/FAKE/taylor-to-obama.wav  \n",
            "  inflating: /content/dataset/KAGGLE/AUDIO/FAKE/taylor-to-ryan.wav  \n",
            "  inflating: /content/dataset/KAGGLE/AUDIO/FAKE/taylor-to-trump.wav  \n",
            "  inflating: /content/dataset/KAGGLE/AUDIO/FAKE/trump-to-Biden.wav  \n",
            "  inflating: /content/dataset/KAGGLE/AUDIO/FAKE/trump-to-Obama.wav  \n",
            "  inflating: /content/dataset/KAGGLE/AUDIO/FAKE/trump-to-linus.wav  \n",
            "  inflating: /content/dataset/KAGGLE/AUDIO/FAKE/trump-to-margot.wav  \n",
            "  inflating: /content/dataset/KAGGLE/AUDIO/FAKE/trump-to-musk.wav  \n",
            "  inflating: /content/dataset/KAGGLE/AUDIO/FAKE/trump-to-ryan.wav  \n",
            "  inflating: /content/dataset/KAGGLE/AUDIO/FAKE/trump-to-taylor.wav  \n",
            "  inflating: /content/dataset/KAGGLE/AUDIO/REAL/biden-original.wav  \n",
            "  inflating: /content/dataset/KAGGLE/AUDIO/REAL/linus-original.wav  \n",
            "  inflating: /content/dataset/KAGGLE/AUDIO/REAL/margot-original.wav  \n",
            "  inflating: /content/dataset/KAGGLE/AUDIO/REAL/musk-original.wav  \n",
            "  inflating: /content/dataset/KAGGLE/AUDIO/REAL/obama-original.wav  \n",
            "  inflating: /content/dataset/KAGGLE/AUDIO/REAL/ryan-original.wav  \n",
            "  inflating: /content/dataset/KAGGLE/AUDIO/REAL/taylor-original.wav  \n",
            "  inflating: /content/dataset/KAGGLE/AUDIO/REAL/trump-original.wav  \n",
            "  inflating: /content/dataset/KAGGLE/DATASET-balanced.csv  \n"
          ]
        }
      ],
      "source": [
        "!unzip deep-voice-deepfake-voice-recognition.zip -d /content/dataset"
      ]
    },
    {
      "cell_type": "code",
      "execution_count": 12,
      "metadata": {
        "id": "5p2xp9lRZSIg"
      },
      "outputs": [],
      "source": [
        "\n",
        "dataset_path = \"/content/dataset/KAGGLE/AUDIO\"\n",
        "augmented_dataset_path = \"/kaggle/working/SPLITTED\"\n",
        "\n",
        "os.makedirs(augmented_dataset_path, exist_ok=True)\n",
        "os.makedirs(os.path.join(augmented_dataset_path, \"FAKE\"), exist_ok=True)\n",
        "os.makedirs(os.path.join(augmented_dataset_path, \"REAL\"), exist_ok=True)\n",
        "\n",
        "def split_audio_file(file_path, output_dir, segment_length=10):\n",
        "    audio = AudioSegment.from_wav(file_path)\n",
        "    duration = audio.duration_seconds\n",
        "    segment_length_ms = segment_length * 1000\n",
        "\n",
        "    segments = []\n",
        "    for i in range(0, len(audio), segment_length_ms):\n",
        "        segment = audio[i:i + segment_length_ms]\n",
        "        segment_file_name = f\"{os.path.splitext(os.path.basename(file_path))[0]}_part{i // segment_length_ms}.wav\"\n",
        "        segment_path = os.path.join(output_dir, segment_file_name)\n",
        "        segment.export(segment_path, format=\"wav\")\n",
        "        segments.append(segment_path)\n",
        "    return segments\n",
        "\n",
        "real_samples_path = os.path.join(dataset_path, \"REAL\")\n",
        "for file_name in os.listdir(real_samples_path):\n",
        "    file_path = os.path.join(real_samples_path, file_name)\n",
        "    output_dir = os.path.join(augmented_dataset_path, \"REAL\")\n",
        "    split_audio_file(file_path, output_dir)\n",
        "\n",
        "fake_samples_path = os.path.join(dataset_path, \"FAKE\")\n",
        "fake_segments = []\n",
        "for file_name in os.listdir(fake_samples_path):\n",
        "    file_path = os.path.join(fake_samples_path, file_name)\n",
        "    output_dir = os.path.join(augmented_dataset_path, \"FAKE\")\n",
        "    fake_segments.extend(split_audio_file(file_path, output_dir))\n",
        "\n",
        "selected_fake_segments = random.sample(fake_segments, len(os.listdir(\"/kaggle/working/SPLITTED/REAL\")))\n",
        "\n",
        "selected_fake_path = os.path.join(augmented_dataset_path, \"SELECTED_FAKE\")\n",
        "os.makedirs(selected_fake_path, exist_ok=True)\n",
        "for segment in selected_fake_segments:\n",
        "    segment_file_name = os.path.basename(segment)\n",
        "    os.rename(segment, os.path.join(selected_fake_path, segment_file_name))"
      ]
    },
    {
      "cell_type": "code",
      "execution_count": 13,
      "metadata": {
        "id": "LItchsw_np-n",
        "colab": {
          "base_uri": "https://localhost:8080/",
          "height": 738
        },
        "outputId": "3acfc74e-7745-492d-a412-e4b1bd501032"
      },
      "outputs": [
        {
          "output_type": "stream",
          "name": "stderr",
          "text": [
            "<ipython-input-13-da10bd04fdfc>:21: FutureWarning: \n",
            "\n",
            "Passing `palette` without assigning `hue` is deprecated and will be removed in v0.14.0. Assign the `x` variable to `hue` and set `legend=False` for the same effect.\n",
            "\n",
            "  sns.barplot(x='Label', y='Count', data=data_pre_augmentation, ax=axes[0], palette=['#1f77b4', '#ff7f0e'])\n",
            "<ipython-input-13-da10bd04fdfc>:27: FutureWarning: \n",
            "\n",
            "Passing `palette` without assigning `hue` is deprecated and will be removed in v0.14.0. Assign the `x` variable to `hue` and set `legend=False` for the same effect.\n",
            "\n",
            "  sns.barplot(x='Label', y='Count', data=data_post_augmentation, ax=axes[1], palette=['#1f77b4', '#ff7f0e'])\n"
          ]
        },
        {
          "output_type": "display_data",
          "data": {
            "text/plain": [
              "<Figure size 1400x600 with 2 Axes>"
            ],
            "image/png": "[encoded data removed]"
          },
          "metadata": {}
        }
      ],
      "source": [
        "\n",
        "original_real_path = os.path.join(dataset_path, \"REAL\")\n",
        "original_fake_path = os.path.join(dataset_path, \"FAKE\")\n",
        "augmented_real_path = os.path.join(augmented_dataset_path, \"REAL\")\n",
        "augmented_fake_path = os.path.join(augmented_dataset_path, \"SELECTED_FAKE\")\n",
        "\n",
        "num_original_real = len(os.listdir(original_real_path))\n",
        "num_original_fake = len(os.listdir(original_fake_path))\n",
        "\n",
        "\n",
        "num_augmented_real = len(os.listdir(augmented_real_path))\n",
        "num_augmented_fake = len(os.listdir(augmented_fake_path))\n",
        "\n",
        "\n",
        "data_pre_augmentation = {'Label': ['REAL', 'FAKE'], 'Count': [num_original_real, num_original_fake]}\n",
        "data_post_augmentation = {'Label': ['REAL', 'FAKE'], 'Count': [num_augmented_real, num_augmented_fake]}\n",
        "\n",
        "\n",
        "fig, axes = plt.subplots(1, 2, figsize=(14, 6))\n",
        "\n",
        "\n",
        "sns.barplot(x='Label', y='Count', data=data_pre_augmentation, ax=axes[0], palette=['#1f77b4', '#ff7f0e'])\n",
        "axes[0].set_title('Before Augmentation')\n",
        "for i, count in enumerate(data_pre_augmentation['Count']):\n",
        "    axes[0].text(i, count + 0.5, str(count), ha='center')\n",
        "\n",
        "\n",
        "sns.barplot(x='Label', y='Count', data=data_post_augmentation, ax=axes[1], palette=['#1f77b4', '#ff7f0e'])\n",
        "axes[1].set_title('After Augmentation')\n",
        "for i, count in enumerate(data_post_augmentation['Count']):\n",
        "    axes[1].text(i, count + 0.5, str(count), ha='center')\n",
        "\n",
        "plt.show()"
      ]
    },
    {
      "cell_type": "code",
      "execution_count": 14,
      "metadata": {
        "id": "gLBkId9_lK6D",
        "colab": {
          "base_uri": "https://localhost:8080/"
        },
        "outputId": "e3be96ee-148f-46bc-d951-7697ce083798"
      },
      "outputs": [
        {
          "output_type": "stream",
          "name": "stderr",
          "text": [
            "/usr/local/lib/python3.10/dist-packages/librosa/core/spectrum.py:266: UserWarning: n_fft=2048 is too large for input signal of length=144\n",
            "  warnings.warn(\n"
          ]
        }
      ],
      "source": [
        "\n",
        "def extract_features(file_path, n_mfcc=13):\n",
        "    y, sr = librosa.load(file_path, sr=None)\n",
        "    mfccs = librosa.feature.mfcc(y=y, sr=sr, n_mfcc=n_mfcc)\n",
        "    return np.mean(mfccs.T, axis=0)\n",
        "\n",
        "fake_samples_path = \"/kaggle/working/SPLITTED/SELECTED_FAKE\"\n",
        "real_samples_path = \"/kaggle/working/SPLITTED/REAL\"\n",
        "\n",
        "features = []\n",
        "labels = []\n",
        "\n",
        "for file_name in os.listdir(fake_samples_path):\n",
        "    file_path = os.path.join(fake_samples_path, file_name)\n",
        "    if file_path.endswith('.wav'):\n",
        "        features.append(extract_features(file_path))\n",
        "        labels.append(0)\n",
        "\n",
        "\n",
        "for file_name in os.listdir(real_samples_path):\n",
        "    file_path = os.path.join(real_samples_path, file_name)\n",
        "    if file_path.endswith('.wav'):\n",
        "        features.append(extract_features(file_path))\n",
        "        labels.append(1)\n",
        "\n",
        "X = np.array(features)\n",
        "y = np.array(labels)\n",
        "X_train, X_test, y_train, y_test = train_test_split(X, y, test_size=0.2, random_state=42, stratify=y)\n",
        "\n"
      ]
    },
    {
      "cell_type": "code",
      "source": [
        "model_accuracy={}"
      ],
      "metadata": {
        "id": "71Z_duSnDhIh"
      },
      "execution_count": 15,
      "outputs": []
    },
    {
      "cell_type": "markdown",
      "metadata": {
        "id": "CohUFA_0zgDH"
      },
      "source": [
        "# Naive Bayes"
      ]
    },
    {
      "cell_type": "code",
      "execution_count": 16,
      "metadata": {
        "id": "aDI1nWd7tzC4",
        "colab": {
          "base_uri": "https://localhost:8080/"
        },
        "outputId": "c663be1f-cd22-4825-c6f3-85e87a44224f"
      },
      "outputs": [
        {
          "output_type": "stream",
          "name": "stdout",
          "text": [
            "Accuracy: 0.9150326797385621\n",
            "Precision: 0.8987341772151899\n",
            "Recall: 0.9342105263157895\n",
            "F1-score: 0.9161290322580645\n"
          ]
        }
      ],
      "source": [
        "model = GaussianNB()\n",
        "\n",
        "\n",
        "model.fit(X_train, y_train)\n",
        "y_pred = model.predict(X_test)\n",
        "\n",
        "accuracy = accuracy_score(y_test, y_pred)\n",
        "precision = precision_score(y_test, y_pred)\n",
        "recall = recall_score(y_test, y_pred)\n",
        "f1 = f1_score(y_test, y_pred)\n",
        "\n",
        "print(f\"Accuracy: {accuracy}\")\n",
        "print(f\"Precision: {precision}\")\n",
        "print(f\"Recall: {recall}\")\n",
        "print(f\"F1-score: {f1}\")\n",
        "model_accuracy[\"Naive Bayes\"] = accuracy"
      ]
    },
    {
      "cell_type": "code",
      "execution_count": 17,
      "metadata": {
        "id": "afVirN7wl6VE",
        "colab": {
          "base_uri": "https://localhost:8080/",
          "height": 410
        },
        "outputId": "4c2ed46c-f9fb-492f-d7a2-34760aba2490"
      },
      "outputs": [
        {
          "output_type": "display_data",
          "data": {
            "text/plain": [
              "<Figure size 600x400 with 2 Axes>"
            ],
            "image/png": "[encoded data removed]"
          },
          "metadata": {}
        }
      ],
      "source": [
        "cm = confusion_matrix(y_test, y_pred)\n",
        "\n",
        "plt.figure(figsize=(6, 4))\n",
        "sns.heatmap(cm, annot=True, fmt=\"d\", cmap=\"Blues\", xticklabels=[\"Fake\", \"Real\"], yticklabels=[\"Fake\", \"Real\"])\n",
        "plt.xlabel(\"Predicted\")\n",
        "plt.ylabel(\"Actual\")\n",
        "plt.title(\"Confusion Matrix\")\n",
        "plt.show()"
      ]
    },
    {
      "cell_type": "code",
      "execution_count": 18,
      "metadata": {
        "id": "MwB1iqHamC1F",
        "colab": {
          "base_uri": "https://localhost:8080/"
        },
        "outputId": "ab14988f-4fba-4d22-b1c4-4f4fc292bdc0"
      },
      "outputs": [
        {
          "output_type": "stream",
          "name": "stdout",
          "text": [
            "              precision    recall  f1-score   support\n",
            "\n",
            "           0       0.93      0.90      0.91        77\n",
            "           1       0.90      0.93      0.92        76\n",
            "\n",
            "    accuracy                           0.92       153\n",
            "   macro avg       0.92      0.92      0.92       153\n",
            "weighted avg       0.92      0.92      0.92       153\n",
            "\n"
          ]
        }
      ],
      "source": [
        "print(classification_report(y_test, y_pred))"
      ]
    },
    {
      "cell_type": "markdown",
      "metadata": {
        "id": "mHSjGnOEzpuh"
      },
      "source": [
        "# K-Nearest Neighbors (KNN)\n",
        "\n"
      ]
    },
    {
      "cell_type": "code",
      "source": [
        "pipeline = Pipeline([\n",
        "    ('scaler', RobustScaler()),\n",
        "    ('selector', SelectKBest(f_classif)),\n",
        "    ('knn', KNeighborsClassifier())\n",
        "])\n",
        "\n",
        "param_grid = {\n",
        "    'selector__k': [3, 6, 9, 11, 13],\n",
        "    'knn__n_neighbors': [3, 5, 7, 9],\n",
        "    'knn__weights': ['uniform', 'distance'],\n",
        "    'knn__p': [1, 2]\n",
        "}\n",
        "\n",
        "grid_search = GridSearchCV(pipeline, param_grid, cv=5, scoring='accuracy')\n",
        "\n",
        "grid_search.fit(X_train, y_train)\n",
        "\n",
        "print(f'Best parameters: {grid_search.best_params_}')\n",
        "print(f'Best score: {grid_search.best_score_}')"
      ],
      "metadata": {
        "colab": {
          "base_uri": "https://localhost:8080/"
        },
        "id": "O7TqtBDKIzCT",
        "outputId": "99c236bd-28f1-450b-ecad-58bc5ba19f5b"
      },
      "execution_count": 19,
      "outputs": [
        {
          "output_type": "stream",
          "name": "stdout",
          "text": [
            "Best parameters: {'knn__n_neighbors': 3, 'knn__p': 2, 'knn__weights': 'uniform', 'selector__k': 11}\n",
            "Best score: 0.9934426229508198\n"
          ]
        }
      ]
    },
    {
      "cell_type": "code",
      "source": [
        "best_model = grid_search.best_estimator_\n",
        "y_pred = best_model.predict(X_test)"
      ],
      "metadata": {
        "id": "c53xbe8GJHtb"
      },
      "execution_count": 20,
      "outputs": []
    },
    {
      "cell_type": "code",
      "source": [
        "accuracy = accuracy_score(y_test, y_pred)\n",
        "precision = precision_score(y_test, y_pred)\n",
        "recall = recall_score(y_test, y_pred)\n",
        "f1 = f1_score(y_test, y_pred)\n",
        "\n",
        "print(f\"Accuracy: {accuracy}\")\n",
        "print(f\"Precision: {precision}\")\n",
        "print(f\"Recall: {recall}\")\n",
        "print(f\"F1-score: {f1}\")\n",
        "model_accuracy[\"SVM\"] = accuracy"
      ],
      "metadata": {
        "colab": {
          "base_uri": "https://localhost:8080/"
        },
        "id": "CwimeAjcJQdX",
        "outputId": "9642bed1-f80b-41ad-b5cc-56da9d7d2349"
      },
      "execution_count": 21,
      "outputs": [
        {
          "output_type": "stream",
          "name": "stdout",
          "text": [
            "Accuracy: 0.9150326797385621\n",
            "Precision: 0.987012987012987\n",
            "Recall: 1.0\n",
            "F1-score: 0.9934640522875817\n"
          ]
        }
      ]
    },
    {
      "cell_type": "code",
      "execution_count": 22,
      "metadata": {
        "id": "VZPQgaHSmWOM",
        "colab": {
          "base_uri": "https://localhost:8080/",
          "height": 410
        },
        "outputId": "cf7430d7-99ea-42d8-b6fd-089fe5b45440"
      },
      "outputs": [
        {
          "output_type": "display_data",
          "data": {
            "text/plain": [
              "<Figure size 600x400 with 2 Axes>"
            ],
            "image/png": "[encoded data removed]"
          },
          "metadata": {}
        }
      ],
      "source": [
        "cm = confusion_matrix(y_test, y_pred)\n",
        "\n",
        "plt.figure(figsize=(6,4))\n",
        "sns.heatmap(cm, annot=True, fmt=\"d\", cmap=\"Blues\", xticklabels=[\"Fake\", \"Real\"], yticklabels=[\"Fake\", \"Real\"])\n",
        "plt.xlabel(\"Predicted\")\n",
        "plt.ylabel(\"Actual\")\n",
        "plt.title(\"Confusion Matrix\")\n",
        "plt.show()"
      ]
    },
    {
      "cell_type": "code",
      "execution_count": 23,
      "metadata": {
        "id": "EG8U3Ow3mboN",
        "colab": {
          "base_uri": "https://localhost:8080/"
        },
        "outputId": "bf741cdf-7538-4a42-f080-5423e532baef"
      },
      "outputs": [
        {
          "output_type": "stream",
          "name": "stdout",
          "text": [
            "              precision    recall  f1-score   support\n",
            "\n",
            "           0       1.00      0.99      0.99        77\n",
            "           1       0.99      1.00      0.99        76\n",
            "\n",
            "    accuracy                           0.99       153\n",
            "   macro avg       0.99      0.99      0.99       153\n",
            "weighted avg       0.99      0.99      0.99       153\n",
            "\n"
          ]
        }
      ],
      "source": [
        "print(classification_report(y_test, y_pred))"
      ]
    },
    {
      "cell_type": "markdown",
      "metadata": {
        "id": "bN_lf_gw0w-9"
      },
      "source": [
        "# Support Vector Machine (SVM)"
      ]
    },
    {
      "cell_type": "code",
      "execution_count": 24,
      "metadata": {
        "id": "vt4fMIgXmrt-",
        "colab": {
          "base_uri": "https://localhost:8080/"
        },
        "outputId": "5dce750f-f77a-4b6f-f1b4-e562e1ec6a4e"
      },
      "outputs": [
        {
          "output_type": "stream",
          "name": "stdout",
          "text": [
            "Best parameters: {'selector__k': 13, 'svm__C': 1, 'svm__gamma': 'scale', 'svm__kernel': 'rbf'}\n",
            "Best score: 0.9934426229508198\n"
          ]
        }
      ],
      "source": [
        "pipeline = Pipeline([\n",
        "    ('scaler', RobustScaler()),\n",
        "    ('selector', SelectKBest(f_classif)),\n",
        "    ('svm', SVC(probability=True))\n",
        "])\n",
        "\n",
        "param_grid = {\n",
        "    'selector__k': [3, 6, 9, 11, 13],\n",
        "    'svm__C': [0.1, 1, 10, 100],\n",
        "    'svm__gamma': ['scale', 'auto'],\n",
        "    'svm__kernel': ['linear', 'rbf']\n",
        "}\n",
        "\n",
        "\n",
        "grid_search = GridSearchCV(pipeline, param_grid, cv=5, scoring='accuracy')\n",
        "\n",
        "grid_search.fit(X_train, y_train)\n",
        "\n",
        "print(f'Best parameters: {grid_search.best_params_}')\n",
        "print(f'Best score: {grid_search.best_score_}')"
      ]
    },
    {
      "cell_type": "code",
      "execution_count": 25,
      "metadata": {
        "id": "NrTDv0d2m42S"
      },
      "outputs": [],
      "source": [
        "best_model = grid_search.best_estimator_\n",
        "y_pred = best_model.predict(X_test)"
      ]
    },
    {
      "cell_type": "code",
      "execution_count": 26,
      "metadata": {
        "id": "1cYaTw4Jm5sa",
        "colab": {
          "base_uri": "https://localhost:8080/"
        },
        "outputId": "0536ff19-c828-49c2-e141-7e4f85a195b0"
      },
      "outputs": [
        {
          "output_type": "stream",
          "name": "stdout",
          "text": [
            "Accuracy: 0.9934640522875817\n",
            "Precision: 0.987012987012987\n",
            "Recall: 1.0\n",
            "F1-score: 0.9934640522875817\n"
          ]
        }
      ],
      "source": [
        "accuracy = accuracy_score(y_test, y_pred)\n",
        "precision = precision_score(y_test, y_pred)\n",
        "recall = recall_score(y_test, y_pred)\n",
        "f1 = f1_score(y_test, y_pred)\n",
        "\n",
        "print(f\"Accuracy: {accuracy}\")\n",
        "print(f\"Precision: {precision}\")\n",
        "print(f\"Recall: {recall}\")\n",
        "print(f\"F1-score: {f1}\")\n",
        "model_accuracy[\"SVM\"] = accuracy"
      ]
    },
    {
      "cell_type": "code",
      "execution_count": 27,
      "metadata": {
        "id": "G2Nplz4dm83p",
        "colab": {
          "base_uri": "https://localhost:8080/",
          "height": 410
        },
        "outputId": "578a4462-aeaf-4217-d69d-d6d7bdd12863"
      },
      "outputs": [
        {
          "output_type": "display_data",
          "data": {
            "text/plain": [
              "<Figure size 600x400 with 2 Axes>"
            ],
            "image/png": "[encoded data removed]"
          },
          "metadata": {}
        }
      ],
      "source": [
        "cm = confusion_matrix(y_test, y_pred)\n",
        "\n",
        "plt.figure(figsize=(6,4))\n",
        "sns.heatmap(cm, annot=True, fmt=\"d\", cmap=\"Blues\", xticklabels=[\"Fake\", \"Real\"], yticklabels=[\"Fake\", \"Real\"])\n",
        "plt.xlabel(\"Predicted\")\n",
        "plt.ylabel(\"Actual\")\n",
        "plt.title(\"Confusion Matrix\")\n",
        "plt.show()"
      ]
    },
    {
      "cell_type": "code",
      "execution_count": 28,
      "metadata": {
        "id": "5iPF4Z46nAZ1",
        "colab": {
          "base_uri": "https://localhost:8080/"
        },
        "outputId": "9539447a-d747-48ff-8837-d59165443ca1"
      },
      "outputs": [
        {
          "output_type": "stream",
          "name": "stdout",
          "text": [
            "              precision    recall  f1-score   support\n",
            "\n",
            "           0       1.00      0.99      0.99        77\n",
            "           1       0.99      1.00      0.99        76\n",
            "\n",
            "    accuracy                           0.99       153\n",
            "   macro avg       0.99      0.99      0.99       153\n",
            "weighted avg       0.99      0.99      0.99       153\n",
            "\n"
          ]
        }
      ],
      "source": [
        "print(classification_report(y_test, y_pred))"
      ]
    },
    {
      "cell_type": "markdown",
      "source": [
        "# Logistic Regression"
      ],
      "metadata": {
        "id": "9LBAy7E37hwP"
      }
    },
    {
      "cell_type": "code",
      "source": [
        "pipeline = Pipeline([\n",
        "    ('scaler', RobustScaler()),\n",
        "    ('selector', SelectKBest(f_classif)),\n",
        "    ('lr', LogisticRegression(max_iter=1000, random_state=42))\n",
        "])\n",
        "\n",
        "param_grid = {\n",
        "    'selector__k': [3, 6, 9, 11, 13],\n",
        "    'lr__C': [0.01, 0.1, 1, 10, 100],\n",
        "    'lr__penalty': ['l1', 'l2'],\n",
        "    'lr__solver': ['liblinear', 'saga']\n",
        "}\n",
        "\n",
        "\n",
        "grid_search = GridSearchCV(pipeline, param_grid, cv=5, scoring='accuracy', n_jobs=-1)\n",
        "\n",
        "grid_search.fit(X_train, y_train)\n",
        "print(f'Best parameters: {grid_search.best_params_}')\n",
        "print(f'Best score: {grid_search.best_score_}')\n",
        "\n",
        "best_model = grid_search.best_estimator_\n",
        "y_pred = best_model.predict(X_test)"
      ],
      "metadata": {
        "id": "G1CgAwkT6216",
        "colab": {
          "base_uri": "https://localhost:8080/"
        },
        "outputId": "c043e03d-8235-43c9-d208-e8b6cedd0887"
      },
      "execution_count": 29,
      "outputs": [
        {
          "output_type": "stream",
          "name": "stdout",
          "text": [
            "Best parameters: {'lr__C': 0.1, 'lr__penalty': 'l2', 'lr__solver': 'saga', 'selector__k': 13}\n",
            "Best score: 0.8489229101747731\n"
          ]
        }
      ]
    },
    {
      "cell_type": "code",
      "source": [
        "accuracy = accuracy_score(y_test, y_pred)\n",
        "precision = precision_score(y_test, y_pred)\n",
        "recall = recall_score(y_test, y_pred)\n",
        "f1 = f1_score(y_test, y_pred)\n",
        "\n",
        "print(f\"Accuracy: {accuracy}\")\n",
        "print(f\"Precision: {precision}\")\n",
        "print(f\"Recall: {recall}\")\n",
        "print(f\"F1-score: {f1}\")\n",
        "model_accuracy[\"Logistic Regression\"] = accuracy"
      ],
      "metadata": {
        "id": "KHPCXZvc65a9",
        "colab": {
          "base_uri": "https://localhost:8080/"
        },
        "outputId": "b4ee6f93-64a2-4244-9aea-22fdcb1955a4"
      },
      "execution_count": 30,
      "outputs": [
        {
          "output_type": "stream",
          "name": "stdout",
          "text": [
            "Accuracy: 0.8169934640522876\n",
            "Precision: 0.8076923076923077\n",
            "Recall: 0.8289473684210527\n",
            "F1-score: 0.8181818181818182\n"
          ]
        }
      ]
    },
    {
      "cell_type": "code",
      "source": [
        "cm = confusion_matrix(y_test, y_pred)\n",
        "\n",
        "plt.figure(figsize=(6,4))\n",
        "sns.heatmap(cm, annot=True, fmt=\"d\", cmap=\"Blues\", xticklabels=[\"Fake\", \"Real\"], yticklabels=[\"Fake\", \"Real\"])\n",
        "plt.xlabel(\"Predicted\")\n",
        "plt.ylabel(\"Actual\")\n",
        "plt.title(\"Confusion Matrix\")\n",
        "plt.show()"
      ],
      "metadata": {
        "id": "2sdwjL1l6-wv",
        "colab": {
          "base_uri": "https://localhost:8080/",
          "height": 410
        },
        "outputId": "75083bea-ebdd-4c8a-8115-32e8c4a0e3a6"
      },
      "execution_count": 31,
      "outputs": [
        {
          "output_type": "display_data",
          "data": {
            "text/plain": [
              "<Figure size 600x400 with 2 Axes>"
            ],
            "image/png": "[encoded data removed]"
          },
          "metadata": {}
        }
      ]
    },
    {
      "cell_type": "code",
      "source": [
        "print(classification_report(y_test, y_pred))"
      ],
      "metadata": {
        "id": "JTnd77CD7A6z",
        "colab": {
          "base_uri": "https://localhost:8080/"
        },
        "outputId": "3119a7a7-3e19-4a83-a330-5e860ce1282a"
      },
      "execution_count": 32,
      "outputs": [
        {
          "output_type": "stream",
          "name": "stdout",
          "text": [
            "              precision    recall  f1-score   support\n",
            "\n",
            "           0       0.83      0.81      0.82        77\n",
            "           1       0.81      0.83      0.82        76\n",
            "\n",
            "    accuracy                           0.82       153\n",
            "   macro avg       0.82      0.82      0.82       153\n",
            "weighted avg       0.82      0.82      0.82       153\n",
            "\n"
          ]
        }
      ]
    },
    {
      "cell_type": "markdown",
      "metadata": {
        "id": "GOPbrhZr1KkV"
      },
      "source": [
        "# Random Forest"
      ]
    },
    {
      "cell_type": "code",
      "execution_count": 33,
      "metadata": {
        "id": "gXH4qXeYIaBn",
        "colab": {
          "base_uri": "https://localhost:8080/",
          "height": 356
        },
        "outputId": "b18498c0-0e66-493f-9bb8-d4779325b35d"
      },
      "outputs": [
        {
          "output_type": "error",
          "ename": "KeyboardInterrupt",
          "evalue": "",
          "traceback": [
            "\u001b[0;31m---------------------------------------------------------------------------\u001b[0m",
            "\u001b[0;31mKeyboardInterrupt\u001b[0m                         Traceback (most recent call last)",
            "\u001b[0;32m<ipython-input-33-8a4f62a4932e>\u001b[0m in \u001b[0;36m<cell line: 18>\u001b[0;34m()\u001b[0m\n\u001b[1;32m     16\u001b[0m \u001b[0;34m\u001b[0m\u001b[0m\n\u001b[1;32m     17\u001b[0m \u001b[0;34m\u001b[0m\u001b[0m\n\u001b[0;32m---> 18\u001b[0;31m \u001b[0mgrid_search\u001b[0m\u001b[0;34m.\u001b[0m\u001b[0mfit\u001b[0m\u001b[0;34m(\u001b[0m\u001b[0mX_train\u001b[0m\u001b[0;34m,\u001b[0m \u001b[0my_train\u001b[0m\u001b[0;34m)\u001b[0m\u001b[0;34m\u001b[0m\u001b[0;34m\u001b[0m\u001b[0m\n\u001b[0m\u001b[1;32m     19\u001b[0m \u001b[0;34m\u001b[0m\u001b[0m\n\u001b[1;32m     20\u001b[0m \u001b[0;34m\u001b[0m\u001b[0m\n",
            "\u001b[0;32m/usr/local/lib/python3.10/dist-packages/sklearn/base.py\u001b[0m in \u001b[0;36mwrapper\u001b[0;34m(estimator, *args, **kwargs)\u001b[0m\n\u001b[1;32m   1387\u001b[0m                 )\n\u001b[1;32m   1388\u001b[0m             ):\n\u001b[0;32m-> 1389\u001b[0;31m                 \u001b[0;32mreturn\u001b[0m \u001b[0mfit_method\u001b[0m\u001b[0;34m(\u001b[0m\u001b[0mestimator\u001b[0m\u001b[0;34m,\u001b[0m \u001b[0;34m*\u001b[0m\u001b[0margs\u001b[0m\u001b[0;34m,\u001b[0m \u001b[0;34m**\u001b[0m\u001b[0mkwargs\u001b[0m\u001b[0;34m)\u001b[0m\u001b[0;34m\u001b[0m\u001b[0;34m\u001b[0m\u001b[0m\n\u001b[0m\u001b[1;32m   1390\u001b[0m \u001b[0;34m\u001b[0m\u001b[0m\n\u001b[1;32m   1391\u001b[0m         \u001b[0;32mreturn\u001b[0m \u001b[0mwrapper\u001b[0m\u001b[0;34m\u001b[0m\u001b[0;34m\u001b[0m\u001b[0m\n",
            "\u001b[0;32m/usr/local/lib/python3.10/dist-packages/sklearn/model_selection/_search.py\u001b[0m in \u001b[0;36mfit\u001b[0;34m(self, X, y, **params)\u001b[0m\n\u001b[1;32m   1021\u001b[0m                 \u001b[0;32mreturn\u001b[0m \u001b[0mresults\u001b[0m\u001b[0;34m\u001b[0m\u001b[0;34m\u001b[0m\u001b[0m\n\u001b[1;32m   1022\u001b[0m \u001b[0;34m\u001b[0m\u001b[0m\n\u001b[0;32m-> 1023\u001b[0;31m             \u001b[0mself\u001b[0m\u001b[0;34m.\u001b[0m\u001b[0m_run_search\u001b[0m\u001b[0;34m(\u001b[0m\u001b[0mevaluate_candidates\u001b[0m\u001b[0;34m)\u001b[0m\u001b[0;34m\u001b[0m\u001b[0;34m\u001b[0m\u001b[0m\n\u001b[0m\u001b[1;32m   1024\u001b[0m \u001b[0;34m\u001b[0m\u001b[0m\n\u001b[1;32m   1025\u001b[0m             \u001b[0;31m# multimetric is determined here because in the case of a callable\u001b[0m\u001b[0;34m\u001b[0m\u001b[0;34m\u001b[0m\u001b[0m\n",
            "\u001b[0;32m/usr/local/lib/python3.10/dist-packages/sklearn/model_selection/_search.py\u001b[0m in \u001b[0;36m_run_search\u001b[0;34m(self, evaluate_candidates)\u001b[0m\n\u001b[1;32m   1568\u001b[0m     \u001b[0;32mdef\u001b[0m \u001b[0m_run_search\u001b[0m\u001b[0;34m(\u001b[0m\u001b[0mself\u001b[0m\u001b[0;34m,\u001b[0m \u001b[0mevaluate_candidates\u001b[0m\u001b[0;34m)\u001b[0m\u001b[0;34m:\u001b[0m\u001b[0;34m\u001b[0m\u001b[0;34m\u001b[0m\u001b[0m\n\u001b[1;32m   1569\u001b[0m         \u001b[0;34m\"\"\"Search all candidates in param_grid\"\"\"\u001b[0m\u001b[0;34m\u001b[0m\u001b[0;34m\u001b[0m\u001b[0m\n\u001b[0;32m-> 1570\u001b[0;31m         \u001b[0mevaluate_candidates\u001b[0m\u001b[0;34m(\u001b[0m\u001b[0mParameterGrid\u001b[0m\u001b[0;34m(\u001b[0m\u001b[0mself\u001b[0m\u001b[0;34m.\u001b[0m\u001b[0mparam_grid\u001b[0m\u001b[0;34m)\u001b[0m\u001b[0;34m)\u001b[0m\u001b[0;34m\u001b[0m\u001b[0;34m\u001b[0m\u001b[0m\n\u001b[0m\u001b[1;32m   1571\u001b[0m \u001b[0;34m\u001b[0m\u001b[0m\n\u001b[1;32m   1572\u001b[0m \u001b[0;34m\u001b[0m\u001b[0m\n",
            "\u001b[0;32m/usr/local/lib/python3.10/dist-packages/sklearn/model_selection/_search.py\u001b[0m in \u001b[0;36mevaluate_candidates\u001b[0;34m(candidate_params, cv, more_results)\u001b[0m\n\u001b[1;32m    967\u001b[0m                     )\n\u001b[1;32m    968\u001b[0m \u001b[0;34m\u001b[0m\u001b[0m\n\u001b[0;32m--> 969\u001b[0;31m                 out = parallel(\n\u001b[0m\u001b[1;32m    970\u001b[0m                     delayed(_fit_and_score)(\n\u001b[1;32m    971\u001b[0m                         \u001b[0mclone\u001b[0m\u001b[0;34m(\u001b[0m\u001b[0mbase_estimator\u001b[0m\u001b[0;34m)\u001b[0m\u001b[0;34m,\u001b[0m\u001b[0;34m\u001b[0m\u001b[0;34m\u001b[0m\u001b[0m\n",
            "\u001b[0;32m/usr/local/lib/python3.10/dist-packages/sklearn/utils/parallel.py\u001b[0m in \u001b[0;36m__call__\u001b[0;34m(self, iterable)\u001b[0m\n\u001b[1;32m     75\u001b[0m             \u001b[0;32mfor\u001b[0m \u001b[0mdelayed_func\u001b[0m\u001b[0;34m,\u001b[0m \u001b[0margs\u001b[0m\u001b[0;34m,\u001b[0m \u001b[0mkwargs\u001b[0m \u001b[0;32min\u001b[0m \u001b[0miterable\u001b[0m\u001b[0;34m\u001b[0m\u001b[0;34m\u001b[0m\u001b[0m\n\u001b[1;32m     76\u001b[0m         )\n\u001b[0;32m---> 77\u001b[0;31m         \u001b[0;32mreturn\u001b[0m \u001b[0msuper\u001b[0m\u001b[0;34m(\u001b[0m\u001b[0;34m)\u001b[0m\u001b[0;34m.\u001b[0m\u001b[0m__call__\u001b[0m\u001b[0;34m(\u001b[0m\u001b[0miterable_with_config\u001b[0m\u001b[0;34m)\u001b[0m\u001b[0;34m\u001b[0m\u001b[0;34m\u001b[0m\u001b[0m\n\u001b[0m\u001b[1;32m     78\u001b[0m \u001b[0;34m\u001b[0m\u001b[0m\n\u001b[1;32m     79\u001b[0m \u001b[0;34m\u001b[0m\u001b[0m\n",
            "\u001b[0;32m/usr/local/lib/python3.10/dist-packages/joblib/parallel.py\u001b[0m in \u001b[0;36m__call__\u001b[0;34m(self, iterable)\u001b[0m\n\u001b[1;32m   2005\u001b[0m         \u001b[0mnext\u001b[0m\u001b[0;34m(\u001b[0m\u001b[0moutput\u001b[0m\u001b[0;34m)\u001b[0m\u001b[0;34m\u001b[0m\u001b[0;34m\u001b[0m\u001b[0m\n\u001b[1;32m   2006\u001b[0m \u001b[0;34m\u001b[0m\u001b[0m\n\u001b[0;32m-> 2007\u001b[0;31m         \u001b[0;32mreturn\u001b[0m \u001b[0moutput\u001b[0m \u001b[0;32mif\u001b[0m \u001b[0mself\u001b[0m\u001b[0;34m.\u001b[0m\u001b[0mreturn_generator\u001b[0m \u001b[0;32melse\u001b[0m \u001b[0mlist\u001b[0m\u001b[0;34m(\u001b[0m\u001b[0moutput\u001b[0m\u001b[0;34m)\u001b[0m\u001b[0;34m\u001b[0m\u001b[0;34m\u001b[0m\u001b[0m\n\u001b[0m\u001b[1;32m   2008\u001b[0m \u001b[0;34m\u001b[0m\u001b[0m\n\u001b[1;32m   2009\u001b[0m     \u001b[0;32mdef\u001b[0m \u001b[0m__repr__\u001b[0m\u001b[0;34m(\u001b[0m\u001b[0mself\u001b[0m\u001b[0;34m)\u001b[0m\u001b[0;34m:\u001b[0m\u001b[0;34m\u001b[0m\u001b[0;34m\u001b[0m\u001b[0m\n",
            "\u001b[0;32m/usr/local/lib/python3.10/dist-packages/joblib/parallel.py\u001b[0m in \u001b[0;36m_get_outputs\u001b[0;34m(self, iterator, pre_dispatch)\u001b[0m\n\u001b[1;32m   1648\u001b[0m \u001b[0;34m\u001b[0m\u001b[0m\n\u001b[1;32m   1649\u001b[0m             \u001b[0;32mwith\u001b[0m \u001b[0mself\u001b[0m\u001b[0;34m.\u001b[0m\u001b[0m_backend\u001b[0m\u001b[0;34m.\u001b[0m\u001b[0mretrieval_context\u001b[0m\u001b[0;34m(\u001b[0m\u001b[0;34m)\u001b[0m\u001b[0;34m:\u001b[0m\u001b[0;34m\u001b[0m\u001b[0;34m\u001b[0m\u001b[0m\n\u001b[0;32m-> 1650\u001b[0;31m                 \u001b[0;32myield\u001b[0m \u001b[0;32mfrom\u001b[0m \u001b[0mself\u001b[0m\u001b[0;34m.\u001b[0m\u001b[0m_retrieve\u001b[0m\u001b[0;34m(\u001b[0m\u001b[0;34m)\u001b[0m\u001b[0;34m\u001b[0m\u001b[0;34m\u001b[0m\u001b[0m\n\u001b[0m\u001b[1;32m   1651\u001b[0m \u001b[0;34m\u001b[0m\u001b[0m\n\u001b[1;32m   1652\u001b[0m         \u001b[0;32mexcept\u001b[0m \u001b[0mGeneratorExit\u001b[0m\u001b[0;34m:\u001b[0m\u001b[0;34m\u001b[0m\u001b[0;34m\u001b[0m\u001b[0m\n",
            "\u001b[0;32m/usr/local/lib/python3.10/dist-packages/joblib/parallel.py\u001b[0m in \u001b[0;36m_retrieve\u001b[0;34m(self)\u001b[0m\n\u001b[1;32m   1760\u001b[0m                 (self._jobs[0].get_status(\n\u001b[1;32m   1761\u001b[0m                     timeout=self.timeout) == TASK_PENDING)):\n\u001b[0;32m-> 1762\u001b[0;31m                 \u001b[0mtime\u001b[0m\u001b[0;34m.\u001b[0m\u001b[0msleep\u001b[0m\u001b[0;34m(\u001b[0m\u001b[0;36m0.01\u001b[0m\u001b[0;34m)\u001b[0m\u001b[0;34m\u001b[0m\u001b[0;34m\u001b[0m\u001b[0m\n\u001b[0m\u001b[1;32m   1763\u001b[0m                 \u001b[0;32mcontinue\u001b[0m\u001b[0;34m\u001b[0m\u001b[0;34m\u001b[0m\u001b[0m\n\u001b[1;32m   1764\u001b[0m \u001b[0;34m\u001b[0m\u001b[0m\n",
            "\u001b[0;31mKeyboardInterrupt\u001b[0m: "
          ]
        }
      ],
      "source": [
        "pipeline = Pipeline([\n",
        "    ('scaler', RobustScaler()),\n",
        "    ('selector', SelectKBest(f_classif)),\n",
        "    ('rf', RandomForestClassifier(random_state=42))\n",
        "])\n",
        "\n",
        "param_grid = {\n",
        "    'selector__k': [3, 6, 9, 11, 13],\n",
        "    'rf__n_estimators': [200, 300],\n",
        "    'rf__max_depth': [None, 10, 20],\n",
        "    'rf__bootstrap': [True, False]\n",
        "}\n",
        "\n",
        "\n",
        "grid_search = GridSearchCV(pipeline, param_grid, cv=5, scoring='accuracy', n_jobs=-1)\n",
        "\n",
        "\n",
        "grid_search.fit(X_train, y_train)\n",
        "\n",
        "\n",
        "print(f'Best parameters: {grid_search.best_params_}')\n",
        "print(f'Best score: {grid_search.best_score_}')\n",
        "best_model = grid_search.best_estimator_\n",
        "y_pred = best_model.predict(X_test)"
      ]
    },
    {
      "cell_type": "code",
      "execution_count": null,
      "metadata": {
        "id": "drzQ4HKXK2-J"
      },
      "outputs": [],
      "source": [
        "accuracy = accuracy_score(y_test, y_pred)\n",
        "precision = precision_score(y_test, y_pred)\n",
        "recall = recall_score(y_test, y_pred)\n",
        "f1 = f1_score(y_test, y_pred)\n",
        "\n",
        "print(f\"Accuracy: {accuracy}\")\n",
        "print(f\"Precision: {precision}\")\n",
        "print(f\"Recall: {recall}\")\n",
        "print(f\"F1-score: {f1}\")\n",
        "model_accuracy[\"Random Forest\"] = accuracy"
      ]
    },
    {
      "cell_type": "code",
      "execution_count": null,
      "metadata": {
        "id": "yQxRaFuDK4dF"
      },
      "outputs": [],
      "source": [
        "cm = confusion_matrix(y_test, y_pred)\n",
        "\n",
        "plt.figure(figsize=(6,4))\n",
        "sns.heatmap(cm, annot=True, fmt=\"d\", cmap=\"Blues\", xticklabels=[\"Fake\", \"Real\"], yticklabels=[\"Fake\", \"Real\"])\n",
        "plt.xlabel(\"Predicted\")\n",
        "plt.ylabel(\"Actual\")\n",
        "plt.title(\"Confusion Matrix\")\n",
        "plt.show()"
      ]
    },
    {
      "cell_type": "code",
      "execution_count": null,
      "metadata": {
        "id": "oNVCZWpUT9Ae"
      },
      "outputs": [],
      "source": [
        "print(classification_report(y_test, y_pred))"
      ]
    },
    {
      "cell_type": "markdown",
      "source": [
        "# Decision Tree"
      ],
      "metadata": {
        "id": "lZiM9Z0UEAj7"
      }
    },
    {
      "cell_type": "code",
      "source": [
        "pipeline = Pipeline([\n",
        "    ('scaler', RobustScaler()),\n",
        "    ('selector', SelectKBest(f_classif)),\n",
        "    ('dt', DecisionTreeClassifier(random_state=42))\n",
        "])\n",
        "\n",
        "param_grid = {\n",
        "    'selector__k': [3, 6, 9, 11, 13],\n",
        "    'dt__max_depth': [None, 10, 20, 30],\n",
        "    'dt__min_samples_split': [2, 5, 10],\n",
        "    'dt__min_samples_leaf': [1, 2, 4],\n",
        "    'dt__criterion': ['gini', 'entropy']\n",
        "}\n",
        "\n",
        "grid_search = GridSearchCV(pipeline, param_grid, cv=5, scoring='accuracy', n_jobs=-1)\n",
        "\n",
        "grid_search.fit(X_train, y_train)\n",
        "\n",
        "print(f'Best parameters: {grid_search.best_params_}')\n",
        "print(f'Best score: {grid_search.best_score_}')\n",
        "\n",
        "best_model = grid_search.best_estimator_\n",
        "y_pred = best_model.predict(X_test)\n"
      ],
      "metadata": {
        "id": "-EqWavxMAtt1"
      },
      "execution_count": null,
      "outputs": []
    },
    {
      "cell_type": "code",
      "source": [
        "accuracy = accuracy_score(y_test, y_pred)\n",
        "precision = precision_score(y_test, y_pred)\n",
        "recall = recall_score(y_test, y_pred)\n",
        "f1 = f1_score(y_test, y_pred)\n",
        "\n",
        "print(f\"Accuracy: {accuracy}\")\n",
        "print(f\"Precision: {precision}\")\n",
        "print(f\"Recall: {recall}\")\n",
        "print(f\"F1-score: {f1}\")\n",
        "model_accuracy[\"Decision Tree\"] = accuracy"
      ],
      "metadata": {
        "id": "vlVLN5dFCPLf"
      },
      "execution_count": null,
      "outputs": []
    },
    {
      "cell_type": "code",
      "source": [
        "cm = confusion_matrix(y_test, y_pred)\n",
        "\n",
        "plt.figure(figsize=(6,4))\n",
        "sns.heatmap(cm, annot=True, fmt=\"d\", cmap=\"Blues\", xticklabels=[\"Fake\", \"Real\"], yticklabels=[\"Fake\", \"Real\"])\n",
        "plt.xlabel(\"Predicted\")\n",
        "plt.ylabel(\"Actual\")\n",
        "plt.title(\"Confusion Matrix\")\n",
        "plt.show()"
      ],
      "metadata": {
        "id": "Ob26BMDBCR1c"
      },
      "execution_count": null,
      "outputs": []
    },
    {
      "cell_type": "code",
      "source": [
        "print(classification_report(y_test, y_pred))"
      ],
      "metadata": {
        "id": "VhFYxK_WCVo5"
      },
      "execution_count": null,
      "outputs": []
    },
    {
      "cell_type": "markdown",
      "metadata": {
        "id": "XJBHR8BX1QAj"
      },
      "source": [
        "# CatBoost"
      ]
    },
    {
      "cell_type": "code",
      "source": [
        "catboost= CatBoostClassifier(verbose=0, random_state=42)\n",
        "\n",
        "catboost.fit(X_train, y_train)\n",
        "\n",
        "y_pred = catboost.predict(X_test)"
      ],
      "metadata": {
        "id": "02YsyHm9D-jX"
      },
      "execution_count": null,
      "outputs": []
    },
    {
      "cell_type": "code",
      "execution_count": null,
      "metadata": {
        "id": "Zf25kJ_fyKI5"
      },
      "outputs": [],
      "source": [
        "accuracy = accuracy_score(y_test, y_pred)\n",
        "precision = precision_score(y_test, y_pred)\n",
        "recall = recall_score(y_test, y_pred)\n",
        "f1 = f1_score(y_test, y_pred)\n",
        "\n",
        "print(f\"Accuracy: {accuracy}\")\n",
        "print(f\"Precision: {precision}\")\n",
        "print(f\"Recall: {recall}\")\n",
        "print(f\"F1-score: {f1}\")\n",
        "model_accuracy[\"CatBoost\"] = accuracy"
      ]
    },
    {
      "cell_type": "code",
      "execution_count": null,
      "metadata": {
        "id": "KytCDV-gyPSF"
      },
      "outputs": [],
      "source": [
        "cm = confusion_matrix(y_test, y_pred)\n",
        "\n",
        "plt.figure(figsize=(6,4))\n",
        "sns.heatmap(cm, annot=True, fmt=\"d\", cmap=\"Blues\", xticklabels=[\"Fake\", \"Real\"], yticklabels=[\"Fake\", \"Real\"])\n",
        "plt.xlabel(\"Predicted\")\n",
        "plt.ylabel(\"Actual\")\n",
        "plt.title(\"Confusion Matrix\")\n",
        "plt.show()"
      ]
    },
    {
      "cell_type": "code",
      "execution_count": null,
      "metadata": {
        "id": "uOk5M45pyQh_"
      },
      "outputs": [],
      "source": [
        "print(classification_report(y_test, y_pred))"
      ]
    },
    {
      "cell_type": "markdown",
      "metadata": {
        "id": "IPzdkuaJ1Y5j"
      },
      "source": [
        "# eXtreme Gradient Boosting (XGB)"
      ]
    },
    {
      "cell_type": "code",
      "execution_count": null,
      "metadata": {
        "id": "legsYGcNsfuX"
      },
      "outputs": [],
      "source": [
        "xgb = XGBClassifier(use_label_encoder=False, eval_metric='logloss')\n",
        "\n",
        "xgb.fit(X_train, y_train)\n",
        "\n",
        "y_pred = xgb.predict(X_test)\n",
        "\n",
        "accuracy = accuracy_score(y_test, y_pred)\n",
        "precision = precision_score(y_test, y_pred)\n",
        "recall = recall_score(y_test, y_pred)\n",
        "f1 = f1_score(y_test, y_pred)\n",
        "\n",
        "print(f\"Accuracy: {accuracy}\")\n",
        "print(f\"Precision: {precision}\")\n",
        "print(f\"Recall: {recall}\")\n",
        "print(f\"F1-score: {f1}\")\n",
        "model_accuracy[\"XGB\"] = accuracy"
      ]
    },
    {
      "cell_type": "code",
      "execution_count": null,
      "metadata": {
        "id": "8Br1JH3ltVWj"
      },
      "outputs": [],
      "source": [
        "cm = confusion_matrix(y_test, y_pred)\n",
        "\n",
        "plt.figure(figsize=(6,4))\n",
        "sns.heatmap(cm, annot=True, fmt=\"d\", cmap=\"Blues\", xticklabels=[\"Fake\", \"Real\"], yticklabels=[\"Fake\", \"Real\"])\n",
        "plt.xlabel(\"Predicted\")\n",
        "plt.ylabel(\"Actual\")\n",
        "plt.title(\"Confusion Matrix\")\n",
        "plt.show()"
      ]
    },
    {
      "cell_type": "code",
      "execution_count": null,
      "metadata": {
        "id": "nIB4b7eetZOu"
      },
      "outputs": [],
      "source": [
        "print(classification_report(y_test, y_pred))"
      ]
    },
    {
      "cell_type": "markdown",
      "metadata": {
        "id": "djy2bn7M15ds"
      },
      "source": [
        "# Long Short-Term Memory (LSTM)"
      ]
    },
    {
      "cell_type": "code",
      "execution_count": null,
      "metadata": {
        "id": "5tCvhCPpvWpl"
      },
      "outputs": [],
      "source": [
        "def extract_mfcc_sequence(file_path, n_mfcc=13, max_length=100):\n",
        "    y, sr = librosa.load(file_path, sr=None)\n",
        "    mfccs = librosa.feature.mfcc(y=y, sr=sr, n_mfcc=n_mfcc)\n",
        "    mfccs = mfccs.T\n",
        "    mfccs = pad_sequences([mfccs], maxlen=max_length, padding='post', truncating='post')[0]\n",
        "    return mfccs\n",
        "\n",
        "features = []\n",
        "labels = []\n",
        "\n",
        "for file_name in os.listdir(fake_samples_path):\n",
        "    file_path = os.path.join(fake_samples_path, file_name)\n",
        "    if file_path.endswith('.wav'):\n",
        "        features.append(extract_mfcc_sequence(file_path))\n",
        "        labels.append(0)\n",
        "\n",
        "for file_name in os.listdir(real_samples_path):\n",
        "    file_path = os.path.join(real_samples_path, file_name)\n",
        "    if file_path.endswith('.wav'):\n",
        "        features.append(extract_mfcc_sequence(file_path))\n",
        "        labels.append(1)\n",
        "\n",
        "\n",
        "X = np.array(features)\n",
        "y = np.array(labels)\n",
        "\n",
        "X_reshaped = X.reshape(X.shape[0], -1)\n",
        "scaler = StandardScaler()\n",
        "X_scaled = scaler.fit_transform(X_reshaped)\n",
        "X_scaled = X_scaled.reshape(X.shape[0], X.shape[1], X.shape[2])\n",
        "\n",
        "y = to_categorical(y)\n",
        "\n",
        "X_train, X_test, y_train, y_test = train_test_split(X_scaled, y, test_size=0.2, random_state=42, stratify=y)"
      ]
    },
    {
      "cell_type": "code",
      "source": [
        "model = Sequential()\n",
        "model.add(LSTM(128, input_shape=(X_train.shape[1], X_train.shape[2]), return_sequences=True))\n",
        "model.add(Dropout(0.3))\n",
        "model.add(LSTM(64, return_sequences=True, kernel_regularizer=l2(0.0001)))\n",
        "model.add(Dropout(0.3))\n",
        "model.add(LSTM(32,kernel_regularizer=l2(0.0001)))\n",
        "model.add(Dense(2, activation='softmax'))\n",
        "\n",
        "\n",
        "model.compile(optimizer='adam', loss='categorical_crossentropy', metrics=['accuracy'])\n",
        "\n",
        "early_stopping = EarlyStopping(monitor='val_loss', patience=5, restore_best_weights=True)\n",
        "\n",
        "history = model.fit(X_train, y_train, epochs=50, batch_size=32, validation_data=(X_test, y_test), callbacks=[early_stopping])\n",
        "\n",
        "loss, accuracy = model.evaluate(X_test, y_test)\n",
        "print(f\"Test Loss: {loss}\")\n",
        "print(f\"Test Accuracy: {accuracy}\")\n",
        "model_accuracy[\"LSTM\"] = accuracy"
      ],
      "metadata": {
        "id": "w3-DfKd2LzrR"
      },
      "execution_count": null,
      "outputs": []
    },
    {
      "cell_type": "code",
      "execution_count": null,
      "metadata": {
        "id": "93anhyERyOgC"
      },
      "outputs": [],
      "source": [
        "plt.plot(history.history['accuracy'], label='Train Accuracy')\n",
        "plt.plot(history.history['val_accuracy'], label='Validation Accuracy')\n",
        "plt.xlabel('Epoch')\n",
        "plt.ylabel('Accuracy')\n",
        "plt.legend()\n",
        "plt.show()\n",
        "\n",
        "plt.plot(history.history['loss'], label='Train Loss')\n",
        "plt.plot(history.history['val_loss'], label='Validation Loss')\n",
        "plt.xlabel('Epoch')\n",
        "plt.ylabel('Loss')\n",
        "plt.legend()\n",
        "plt.show()"
      ]
    },
    {
      "cell_type": "markdown",
      "metadata": {
        "id": "53pBbpJZ1_Cu"
      },
      "source": [
        "# Convolutional Neural Network (CNN)"
      ]
    },
    {
      "cell_type": "code",
      "source": [
        "def save_spectrogram(file_path, output_dir, n_mels=128, fmax=8000):\n",
        "    y, sr = librosa.load(file_path, sr=None)\n",
        "    spectrogram = librosa.feature.melspectrogram(y=y, sr=sr, n_mels=n_mels, fmax=fmax)\n",
        "    spectrogram_db = librosa.power_to_db(spectrogram, ref=np.max)\n",
        "\n",
        "    plt.figure(figsize=(3, 3))\n",
        "    librosa.display.specshow(spectrogram_db, sr=sr, hop_length=512, x_axis='time', y_axis='mel', fmax=fmax)\n",
        "    plt.axis('off')\n",
        "    output_path = os.path.join(output_dir, os.path.basename(file_path).replace('.wav', '.png'))\n",
        "    plt.savefig(output_path, bbox_inches='tight', pad_inches=0)\n",
        "    plt.close()\n",
        "\n",
        "fake_output_dir = \"/kaggle/working/SPECTROGRAMS/FAKE\"\n",
        "real_output_dir = \"/kaggle/working/SPECTROGRAMS/REAL\"\n",
        "os.makedirs(fake_output_dir, exist_ok=True)\n",
        "os.makedirs(real_output_dir, exist_ok=True)\n",
        "\n",
        "for file_name in os.listdir(fake_samples_path):\n",
        "    file_path = os.path.join(fake_samples_path, file_name)\n",
        "    if file_path.endswith('.wav'):\n",
        "        save_spectrogram(file_path, fake_output_dir)\n",
        "\n",
        "for file_name in os.listdir(real_samples_path):\n",
        "    file_path = os.path.join(real_samples_path, file_name)\n",
        "    if file_path.endswith('.wav'):\n",
        "        save_spectrogram(file_path, real_output_dir)\n"
      ],
      "metadata": {
        "id": "ceOa7Ud1Tv-6"
      },
      "execution_count": null,
      "outputs": []
    },
    {
      "cell_type": "code",
      "source": [
        "def display_real_fake_pairs(real_dir, fake_dir, num_pairs=5):\n",
        "    real_files = [f for f in os.listdir(real_dir) if f.endswith('.png')]\n",
        "    fake_files = [f for f in os.listdir(fake_dir) if f.endswith('.png')]\n",
        "\n",
        "    pairs = []\n",
        "    for real_file in real_files:\n",
        "        real_base_name = real_file.split('-original_part')[0]\n",
        "        part_number = real_file.split('_part')[-1].split('.png')[0]\n",
        "\n",
        "        matching_fake = next(\n",
        "            (f for f in fake_files if f.startswith(f\"{real_base_name}-to-\") and f.endswith(f\"_part{part_number}.png\")),\n",
        "            None\n",
        "        )\n",
        "\n",
        "        if matching_fake:\n",
        "            pairs.append((real_file, matching_fake))\n",
        "        if len(pairs) >= num_pairs:\n",
        "            break\n",
        "\n",
        "    if not pairs:\n",
        "        print(\"There are no spectrogram pairs available to display.\")\n",
        "        return\n",
        "\n",
        "    plt.figure(figsize=(20, 2*len(pairs)))\n",
        "\n",
        "    for i, (real_file, fake_file) in enumerate(pairs):\n",
        "        real_path = os.path.join(real_dir, real_file)\n",
        "        fake_path = os.path.join(fake_dir, fake_file)\n",
        "\n",
        "        real_img = Image.open(real_path)\n",
        "        fake_img = Image.open(fake_path)\n",
        "\n",
        "        plt.subplot(2, len(pairs), i + 1)\n",
        "        plt.imshow(real_img)\n",
        "        plt.title(f\"Real: {real_file}\")\n",
        "        plt.axis('off')\n",
        "\n",
        "        plt.subplot(2,len(pairs), i + 6)\n",
        "        plt.imshow(fake_img)\n",
        "        plt.title(f\"Fake: {fake_file}\")\n",
        "        plt.axis('off')\n",
        "\n",
        "    plt.tight_layout()\n",
        "    plt.show()\n",
        "\n",
        "display_real_fake_pairs(real_output_dir, fake_output_dir)"
      ],
      "metadata": {
        "id": "5USGjBLNb6tI"
      },
      "execution_count": null,
      "outputs": []
    },
    {
      "cell_type": "code",
      "source": [
        "train_dir = \"/kaggle/working/SPECTROGRAMS\"\n",
        "batch_size = 32\n",
        "img_height, img_width = 128, 128\n",
        "\n",
        "train_datagen = ImageDataGenerator(rescale=1.0 / 255, validation_split=0.2)\n",
        "\n",
        "train_generator = train_datagen.flow_from_directory(\n",
        "    train_dir,\n",
        "    target_size=(img_height, img_width),\n",
        "    batch_size=batch_size,\n",
        "    class_mode='categorical',\n",
        "    subset='training'\n",
        ")\n",
        "\n",
        "\n",
        "validation_generator = train_datagen.flow_from_directory(\n",
        "    train_dir,\n",
        "    target_size=(img_height, img_width),\n",
        "    batch_size=batch_size,\n",
        "    class_mode='categorical',\n",
        "    subset='validation'\n",
        ")\n"
      ],
      "metadata": {
        "id": "-hPpwkRHTyE8"
      },
      "execution_count": null,
      "outputs": []
    },
    {
      "cell_type": "code",
      "source": [
        "model = Sequential()\n",
        "model.add(Conv2D(32, (3, 3), activation='relu', input_shape=(img_height, img_width, 3)))\n",
        "model.add(MaxPooling2D((2, 2)))\n",
        "model.add(Dropout(0.2))\n",
        "\n",
        "model.add(Conv2D(64, (3, 3), activation='relu'))\n",
        "model.add(MaxPooling2D((2, 2)))\n",
        "model.add(Dropout(0.25))\n",
        "\n",
        "model.add(Conv2D(128, (3, 3), activation='relu'))\n",
        "model.add(MaxPooling2D((2, 2)))\n",
        "model.add(Dropout(0.3))\n",
        "\n",
        "model.add(Flatten())\n",
        "model.add(Dense(128, activation='relu'))\n",
        "model.add(Dropout(0.3))\n",
        "model.add(Dense(2, activation='softmax'))\n",
        "\n",
        "\n",
        "model.compile(optimizer='adam', loss='categorical_crossentropy', metrics=['accuracy'])\n",
        "\n",
        "history = model.fit(\n",
        "    train_generator,\n",
        "    epochs=50,\n",
        "    validation_data=validation_generator,\n",
        "    callbacks=[EarlyStopping(monitor='val_loss', patience=5, restore_best_weights=True)]\n",
        ")\n",
        "\n",
        "loss, accuracy = model.evaluate(validation_generator)\n",
        "print(f\"Validation Loss: {loss}\")\n",
        "print(f\"Validation Accuracy: {accuracy}\")\n",
        "model_accuracy[\"CNN\"] = accuracy"
      ],
      "metadata": {
        "id": "O1j3WPftdVuJ"
      },
      "execution_count": null,
      "outputs": []
    },
    {
      "cell_type": "code",
      "source": [
        "plt.plot(history.history['accuracy'], label='Train Accuracy')\n",
        "plt.plot(history.history['val_accuracy'], label='Validation Accuracy')\n",
        "plt.xlabel('Epoch')\n",
        "plt.ylabel('Accuracy')\n",
        "plt.legend()\n",
        "plt.show()\n",
        "\n",
        "plt.plot(history.history['loss'], label='Train Loss')\n",
        "plt.plot(history.history['val_loss'], label='Validation Loss')\n",
        "plt.xlabel('Epoch')\n",
        "plt.ylabel('Loss')\n",
        "plt.legend()\n",
        "plt.show()"
      ],
      "metadata": {
        "id": "iM4ldImQ-wJn"
      },
      "execution_count": null,
      "outputs": []
    },
    {
      "cell_type": "code",
      "source": [
        "models = list(model_accuracy.keys())\n",
        "accuracies = list(model_accuracy.values())\n",
        "\n",
        "max_index = accuracies.index(max(accuracies))\n",
        "colors = ['green' if i == max_index else 'red' for i in range(len(models))]\n",
        "\n",
        "plt.figure(figsize=(20, 7))\n",
        "plt.bar(models, accuracies, color=colors)\n",
        "plt.xlabel('Models')\n",
        "plt.ylabel('Accuracy')\n",
        "plt.title('Model Accuracy Comparison')\n",
        "plt.subplots_adjust(left=0.1, right=0.9, top=0.9, bottom=0.15)\n",
        "for i, acc in enumerate(accuracies):\n",
        "    plt.text(i, acc + 0.005, f\"{acc:.5f}\", ha='center', va='bottom')\n",
        "plt.show()"
      ],
      "metadata": {
        "id": "bn_SU60qEWSG"
      },
      "execution_count": null,
      "outputs": []
    }
  ],
  "metadata": {
    "colab": {
      "provenance": []
    },
    "kernelspec": {
      "display_name": "Python 3",
      "name": "python3"
    },
    "language_info": {
      "name": "python"
    }
  },
  "nbformat": 4,
  "nbformat_minor": 0
}